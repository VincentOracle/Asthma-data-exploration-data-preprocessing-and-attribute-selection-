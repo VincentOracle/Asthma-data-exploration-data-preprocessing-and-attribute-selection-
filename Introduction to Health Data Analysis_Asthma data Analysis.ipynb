{
 "cells": [
  {
   "cell_type": "markdown",
   "id": "ef06e66a",
   "metadata": {},
   "source": [
    "# Introduction to Health Data Analysis_Asthma data Analysis"
   ]
  },
  {
   "cell_type": "markdown",
   "id": "fa9be717",
   "metadata": {},
   "source": [
    "                              ",
    "                                 ",
    "                                 "
   ]
  },
  {
   "cell_type": "markdown",
   "id": "46e48468",
   "metadata": {},
   "source": [
    "1. Open the file (asthma_data_2016.csv) by using pandas' read_csv() method."
   ]
  },
  {
   "cell_type": "code",
   "execution_count": 57,
   "id": "30afa11b",
   "metadata": {},
   "outputs": [
    {
     "name": "stdout",
     "output_type": "stream",
     "text": [
      "The Asthma data read successfuly!\n"
     ]
    }
   ],
   "source": [
    "import pandas as pd\n",
    "\n",
    "# Read the CSV file\n",
    "asthma_data = pd.read_csv(\"C:\\\\Users\\\\n\\Downloads\\\\asthma_data_2016.csv\")\n",
    "print(\"The Asthma data read successfuly!\")"
   ]
  },
  {
   "cell_type": "code",
   "execution_count": 58,
   "id": "cd081638",
   "metadata": {},
   "outputs": [
    {
     "data": {
      "text/html": [
       "<div>\n",
       "<style scoped>\n",
       "    .dataframe tbody tr th:only-of-type {\n",
       "        vertical-align: middle;\n",
       "    }\n",
       "\n",
       "    .dataframe tbody tr th {\n",
       "        vertical-align: top;\n",
       "    }\n",
       "\n",
       "    .dataframe thead th {\n",
       "        text-align: right;\n",
       "    }\n",
       "</style>\n",
       "<table border=\"1\" class=\"dataframe\">\n",
       "  <thead>\n",
       "    <tr style=\"text-align: right;\">\n",
       "      <th></th>\n",
       "      <th>DUID</th>\n",
       "      <th>PID</th>\n",
       "      <th>DUPERSID</th>\n",
       "      <th>CONDN</th>\n",
       "      <th>CONDIDX</th>\n",
       "      <th>PANEL</th>\n",
       "      <th>CONDRN</th>\n",
       "      <th>AGEDIAG</th>\n",
       "      <th>CRND1</th>\n",
       "      <th>CRND2</th>\n",
       "      <th>...</th>\n",
       "      <th>RXOPR16</th>\n",
       "      <th>RXOPU16</th>\n",
       "      <th>RXOSR16</th>\n",
       "      <th>RXPTR16</th>\n",
       "      <th>RXOTH16</th>\n",
       "      <th>FAMWT16F</th>\n",
       "      <th>FAMWT16C</th>\n",
       "      <th>SAQWT16F</th>\n",
       "      <th>DIABW16F</th>\n",
       "      <th>CSAQW16F</th>\n",
       "    </tr>\n",
       "  </thead>\n",
       "  <tbody>\n",
       "    <tr>\n",
       "      <th>0</th>\n",
       "      <td>10006</td>\n",
       "      <td>101</td>\n",
       "      <td>10006101</td>\n",
       "      <td>21</td>\n",
       "      <td>1.000610e+11</td>\n",
       "      <td>21</td>\n",
       "      <td>1</td>\n",
       "      <td>10</td>\n",
       "      <td>0</td>\n",
       "      <td>1</td>\n",
       "      <td>...</td>\n",
       "      <td>0</td>\n",
       "      <td>0</td>\n",
       "      <td>0</td>\n",
       "      <td>0</td>\n",
       "      <td>0</td>\n",
       "      <td>46571.054820</td>\n",
       "      <td>46571.054820</td>\n",
       "      <td>36022.98686</td>\n",
       "      <td>0.0</td>\n",
       "      <td>0.0</td>\n",
       "    </tr>\n",
       "    <tr>\n",
       "      <th>1</th>\n",
       "      <td>10008</td>\n",
       "      <td>102</td>\n",
       "      <td>10008102</td>\n",
       "      <td>11</td>\n",
       "      <td>1.000810e+11</td>\n",
       "      <td>21</td>\n",
       "      <td>1</td>\n",
       "      <td>1</td>\n",
       "      <td>1</td>\n",
       "      <td>0</td>\n",
       "      <td>...</td>\n",
       "      <td>0</td>\n",
       "      <td>0</td>\n",
       "      <td>0</td>\n",
       "      <td>0</td>\n",
       "      <td>0</td>\n",
       "      <td>11429.276860</td>\n",
       "      <td>11429.276860</td>\n",
       "      <td>17211.76808</td>\n",
       "      <td>0.0</td>\n",
       "      <td>0.0</td>\n",
       "    </tr>\n",
       "    <tr>\n",
       "      <th>2</th>\n",
       "      <td>10008</td>\n",
       "      <td>106</td>\n",
       "      <td>10008106</td>\n",
       "      <td>11</td>\n",
       "      <td>1.000810e+11</td>\n",
       "      <td>21</td>\n",
       "      <td>1</td>\n",
       "      <td>3</td>\n",
       "      <td>1</td>\n",
       "      <td>0</td>\n",
       "      <td>...</td>\n",
       "      <td>0</td>\n",
       "      <td>0</td>\n",
       "      <td>0</td>\n",
       "      <td>0</td>\n",
       "      <td>0</td>\n",
       "      <td>11429.276860</td>\n",
       "      <td>11429.276860</td>\n",
       "      <td>0.00000</td>\n",
       "      <td>0.0</td>\n",
       "      <td>0.0</td>\n",
       "    </tr>\n",
       "    <tr>\n",
       "      <th>3</th>\n",
       "      <td>10019</td>\n",
       "      <td>102</td>\n",
       "      <td>10019102</td>\n",
       "      <td>51</td>\n",
       "      <td>1.001910e+11</td>\n",
       "      <td>21</td>\n",
       "      <td>1</td>\n",
       "      <td>12</td>\n",
       "      <td>1</td>\n",
       "      <td>1</td>\n",
       "      <td>...</td>\n",
       "      <td>0</td>\n",
       "      <td>0</td>\n",
       "      <td>0</td>\n",
       "      <td>5513</td>\n",
       "      <td>0</td>\n",
       "      <td>9122.447495</td>\n",
       "      <td>9122.447495</td>\n",
       "      <td>12874.49826</td>\n",
       "      <td>0.0</td>\n",
       "      <td>0.0</td>\n",
       "    </tr>\n",
       "    <tr>\n",
       "      <th>4</th>\n",
       "      <td>10034</td>\n",
       "      <td>101</td>\n",
       "      <td>10034101</td>\n",
       "      <td>121</td>\n",
       "      <td>1.003410e+11</td>\n",
       "      <td>21</td>\n",
       "      <td>3</td>\n",
       "      <td>-8</td>\n",
       "      <td>0</td>\n",
       "      <td>0</td>\n",
       "      <td>...</td>\n",
       "      <td>0</td>\n",
       "      <td>0</td>\n",
       "      <td>0</td>\n",
       "      <td>0</td>\n",
       "      <td>0</td>\n",
       "      <td>2013.580601</td>\n",
       "      <td>2013.580601</td>\n",
       "      <td>0.00000</td>\n",
       "      <td>0.0</td>\n",
       "      <td>0.0</td>\n",
       "    </tr>\n",
       "  </tbody>\n",
       "</table>\n",
       "<p>5 rows × 1959 columns</p>\n",
       "</div>"
      ],
      "text/plain": [
       "    DUID  PID  DUPERSID  CONDN       CONDIDX  PANEL  CONDRN  AGEDIAG  CRND1  \\\n",
       "0  10006  101  10006101     21  1.000610e+11     21       1       10      0   \n",
       "1  10008  102  10008102     11  1.000810e+11     21       1        1      1   \n",
       "2  10008  106  10008106     11  1.000810e+11     21       1        3      1   \n",
       "3  10019  102  10019102     51  1.001910e+11     21       1       12      1   \n",
       "4  10034  101  10034101    121  1.003410e+11     21       3       -8      0   \n",
       "\n",
       "   CRND2  ...  RXOPR16  RXOPU16  RXOSR16  RXPTR16  RXOTH16      FAMWT16F  \\\n",
       "0      1  ...        0        0        0        0        0  46571.054820   \n",
       "1      0  ...        0        0        0        0        0  11429.276860   \n",
       "2      0  ...        0        0        0        0        0  11429.276860   \n",
       "3      1  ...        0        0        0     5513        0   9122.447495   \n",
       "4      0  ...        0        0        0        0        0   2013.580601   \n",
       "\n",
       "       FAMWT16C     SAQWT16F  DIABW16F  CSAQW16F  \n",
       "0  46571.054820  36022.98686       0.0       0.0  \n",
       "1  11429.276860  17211.76808       0.0       0.0  \n",
       "2  11429.276860      0.00000       0.0       0.0  \n",
       "3   9122.447495  12874.49826       0.0       0.0  \n",
       "4   2013.580601      0.00000       0.0       0.0  \n",
       "\n",
       "[5 rows x 1959 columns]"
      ]
     },
     "execution_count": 58,
     "metadata": {},
     "output_type": "execute_result"
    }
   ],
   "source": [
    "asthma_data.head()"
   ]
  },
  {
   "cell_type": "markdown",
   "id": "1ea1ff1b",
   "metadata": {},
   "source": [
    "2.  What are the number of rows (tuples) and columns (attributes) of this file? "
   ]
  },
  {
   "cell_type": "code",
   "execution_count": 59,
   "id": "d1d9ad47",
   "metadata": {},
   "outputs": [
    {
     "name": "stdout",
     "output_type": "stream",
     "text": [
      "Number of rows: 2254\n",
      "Number of columns: 1959\n"
     ]
    }
   ],
   "source": [
    "# Number of rows and columns\n",
    "num_rows, num_columns = asthma_data.shape\n",
    "print(f\"Number of rows: {num_rows}\")\n",
    "print(f\"Number of columns: {num_columns}\")\n"
   ]
  },
  {
   "cell_type": "markdown",
   "id": "634f4583",
   "metadata": {},
   "source": [
    "3.  What is the value of row index 1494 and column index 229? "
   ]
  },
  {
   "cell_type": "code",
   "execution_count": 60,
   "id": "bd6519de",
   "metadata": {},
   "outputs": [
    {
     "name": "stdout",
     "output_type": "stream",
     "text": [
      "Value at row 1494, column 229: 4\n"
     ]
    }
   ],
   "source": [
    "value_1494_229 = asthma_data.iat[1494, 229]\n",
    "print(f\"Value at row 1494, column 229: {value_1494_229}\")\n"
   ]
  },
  {
   "cell_type": "markdown",
   "id": "21ce4342",
   "metadata": {},
   "source": [
    "4. Select the following variables: [\"DUPERSID\", \"SEX\", \"ASPRIN53\", \"ADAPPT42\",\n",
    "\"ADHECR42\",\" AGE16X\", \"BMINDX53\", \"CHBMIX42\", \"FAMINC16\", \"WAGEP16X\", \n",
    "\"TTLP16X\", \"UNEMP16X\", \"RACETHX\", \"TOTEXP16\"]. Then, assign the selected \n",
    "attributes to a new data frame, called asthma_selected."
   ]
  },
  {
   "cell_type": "code",
   "execution_count": 61,
   "id": "95879a54",
   "metadata": {},
   "outputs": [
    {
     "name": "stdout",
     "output_type": "stream",
     "text": [
      "The selected Variables are:\n",
      "       DUPERSID  SEX  ASPRIN53  ADAPPT42  ADHECR42  AGE16X  BMINDX53  CHBMIX42  \\\n",
      "0     10006101    2         2         2         9      43      20.0      -1.0   \n",
      "1     10008102    1         2         0        -1      19      20.7      -1.0   \n",
      "2     10008106    2        -1        -1        -1       9      -1.0      -9.0   \n",
      "3     10019102    2         1         4         8      73      30.5      -1.0   \n",
      "4     10034101    1         2        -1        -1      75      34.9      -1.0   \n",
      "...        ...  ...       ...       ...       ...     ...       ...       ...   \n",
      "2249  80546101    2         2         3         8      35      36.8      -1.0   \n",
      "2250  80550101    2         2         6         9      67      28.4      -1.0   \n",
      "2251  80564101    2         2         1        10      51      26.1      -1.0   \n",
      "2252  80568101    2         2         4         9      46      25.7      -1.0   \n",
      "2253  80568103    1        -1        -1        -1      12      -1.0      22.9   \n",
      "\n",
      "      FAMINC16  WAGEP16X  TTLP16X  UNEMP16X  RACETHX  TOTEXP16  \n",
      "0            0         0        0         0        2        23  \n",
      "1        45958     11432    11432         0        2      3418  \n",
      "2        45958         0        0         0        2      1517  \n",
      "3        55921         0    15921         0        2     15794  \n",
      "4        13332         0    13332         0        3     10340  \n",
      "...        ...       ...      ...       ...      ...       ...  \n",
      "2249     38000     38000    38000         0        2      2659  \n",
      "2250     78930         0      250         0        2     18224  \n",
      "2251     96802     28000    28000         0        1       960  \n",
      "2252     28128         0    12128         0        1      8422  \n",
      "2253     28128         0        0         0        1      6859  \n",
      "\n",
      "[2254 rows x 14 columns]\n"
     ]
    }
   ],
   "source": [
    "selected_variables = [\"DUPERSID\", \"SEX\", \"ASPRIN53\", \"ADAPPT42\", \"ADHECR42\", \"AGE16X\", \"BMINDX53\", \"CHBMIX42\", \"FAMINC16\", \"WAGEP16X\", \"TTLP16X\", \"UNEMP16X\", \"RACETHX\", \"TOTEXP16\"]\n",
    "asthma_selected = asthma_data[selected_variables]\n",
    "print(\"The selected Variables are:\\n\",asthma_selected)"
   ]
  },
  {
   "cell_type": "markdown",
   "id": "a1da46e0",
   "metadata": {},
   "source": [
    "5.  Show (i.e., print) the values of DUPERSID and SEX in rows from 150 to 160. Here, numbers indicate row indexes. "
   ]
  },
  {
   "cell_type": "code",
   "execution_count": 62,
   "id": "52139dfa",
   "metadata": {},
   "outputs": [
    {
     "name": "stdout",
     "output_type": "stream",
     "text": [
      "     DUPERSID  SEX\n",
      "150  11461204    1\n",
      "151  11465102    2\n",
      "152  11465103    1\n",
      "153  11465105    2\n",
      "154  11477102    1\n",
      "155  11479103    2\n",
      "156  11480102    1\n",
      "157  11500103    2\n",
      "158  11508103    1\n",
      "159  11527101    2\n",
      "160  11546101    2\n"
     ]
    }
   ],
   "source": [
    "print(asthma_selected.loc[150:160, [\"DUPERSID\", \"SEX\"]])"
   ]
  },
  {
   "cell_type": "markdown",
   "id": "b534ba1d",
   "metadata": {},
   "source": [
    "6.  By using describe method(), examine the distribution of data and answer two \n",
    "questions."
   ]
  },
  {
   "cell_type": "code",
   "execution_count": 63,
   "id": "e6358065",
   "metadata": {},
   "outputs": [
    {
     "name": "stdout",
     "output_type": "stream",
     "text": [
      "           DUPERSID          SEX     ASPRIN53     ADAPPT42     ADHECR42  \\\n",
      "count  2.254000e+03  2254.000000  2254.000000  2254.000000  2254.000000   \n",
      "mean   4.635805e+07     1.594055     0.807897     0.876664     3.052351   \n",
      "std    3.031418e+07     0.491183     1.505401     3.417645     5.352129   \n",
      "min    1.000610e+07     1.000000    -8.000000    -9.000000    -9.000000   \n",
      "25%    1.500510e+07     1.000000    -1.000000    -1.000000    -1.000000   \n",
      "50%    7.047910e+07     2.000000     2.000000     0.000000    -1.000000   \n",
      "75%    7.551310e+07     2.000000     2.000000     4.000000     8.000000   \n",
      "max    8.056810e+07     2.000000     2.000000     6.000000    10.000000   \n",
      "\n",
      "            AGE16X     BMINDX53     CHBMIX42       FAMINC16       WAGEP16X  \\\n",
      "count  2254.000000  2254.000000  2254.000000    2254.000000    2254.000000   \n",
      "mean     36.867791    20.215129     3.085226   55888.935670   13765.931233   \n",
      "std      24.034232    16.336593     9.687313   58137.780662   28348.237042   \n",
      "min      -1.000000    -9.000000    -9.000000  -48049.000000       0.000000   \n",
      "25%      13.000000    -1.000000    -1.000000   16796.000000       0.000000   \n",
      "50%      36.000000    25.100000    -1.000000   37477.500000       0.000000   \n",
      "75%      57.000000    32.000000    -1.000000   77417.750000   16000.000000   \n",
      "max      85.000000    89.800000    57.200000  495465.000000  221815.000000   \n",
      "\n",
      "             TTLP16X     UNEMP16X      RACETHX       TOTEXP16  \n",
      "count    2254.000000  2254.000000  2254.000000    2254.000000  \n",
      "mean    19562.167258    35.235138     2.209406    9278.631322  \n",
      "std     30358.241468   378.795652     1.076143   20089.432125  \n",
      "min    -44824.000000     0.000000     1.000000       0.000000  \n",
      "25%         0.000000     0.000000     1.000000     881.000000  \n",
      "50%      8820.000000     0.000000     2.000000    2904.000000  \n",
      "75%     26150.000000     0.000000     3.000000    9135.750000  \n",
      "max    228314.000000  5560.000000     5.000000  417922.000000  \n",
      "Categorical variables: []\n"
     ]
    }
   ],
   "source": [
    "description = asthma_selected.describe(include=\"all\")\n",
    "print(description)\n",
    "# The attribute with the most missing values can be identified from the count row in the describe output.\n",
    "\n",
    "# To list the names of categorical variables:\n",
    "categorical_variables = [col for col in asthma_selected.columns if asthma_selected[col].dtype == 'object']\n",
    "print(\"Categorical variables:\", categorical_variables)\n",
    "# Categorical variables are typically of object data type."
   ]
  },
  {
   "cell_type": "markdown",
   "id": "2c435a36",
   "metadata": {},
   "source": [
    "7.  Change missing values of ADHECR42 to the mean value of this attribute. "
   ]
  },
  {
   "cell_type": "code",
   "execution_count": 64,
   "id": "6add475b",
   "metadata": {},
   "outputs": [
    {
     "name": "stdout",
     "output_type": "stream",
     "text": [
      "Missing values of ADHECR42 changed successfully!\n"
     ]
    },
    {
     "name": "stderr",
     "output_type": "stream",
     "text": [
      "C:\\Users\\n\\AppData\\Local\\Temp\\ipykernel_10488\\988878741.py:5: SettingWithCopyWarning: \n",
      "A value is trying to be set on a copy of a slice from a DataFrame\n",
      "\n",
      "See the caveats in the documentation: https://pandas.pydata.org/pandas-docs/stable/user_guide/indexing.html#returning-a-view-versus-a-copy\n",
      "  asthma_selected['ADHECR42'].fillna(mean_ADHECR42, inplace=True)\n"
     ]
    }
   ],
   "source": [
    "# 7. To change missing values of ADHECR42 to the mean value:\n",
    "# ```python\n",
    "\n",
    "mean_ADHECR42 = asthma_selected['ADHECR42'].mean()\n",
    "asthma_selected['ADHECR42'].fillna(mean_ADHECR42, inplace=True)\n",
    "print(\"Missing values of ADHECR42 changed successfully!\")"
   ]
  },
  {
   "cell_type": "markdown",
   "id": "ccd1bff9",
   "metadata": {},
   "source": [
    "8.  Remove tuples if more than three attributes' values are below QI - 1.5*IQR or above Q3 + 1.5x|QR. In other words, remove outliers. How many tuples are left?"
   ]
  },
  {
   "cell_type": "code",
   "execution_count": 65,
   "id": "98a2c9de",
   "metadata": {},
   "outputs": [
    {
     "name": "stdout",
     "output_type": "stream",
     "text": [
      "Number of tuples left after removing outliers: 1055\n"
     ]
    }
   ],
   "source": [
    "Q1 = asthma_selected.quantile(0.25)\n",
    "Q3 = asthma_selected.quantile(0.75)\n",
    "IQR = Q3 - Q1\n",
    "# Define the threshold for outliers\n",
    "threshold = 1.5\n",
    "# Create a boolean mask to identify outliers\n",
    "outlier_mask = ((asthma_selected < (Q1 - threshold * IQR)) | (asthma_selected > (Q3 + threshold * IQR))).any(axis=1)\n",
    "# Remove outliers\n",
    "asthma_selected = asthma_selected[~outlier_mask]\n",
    "# Number of tuples left\n",
    "num_tuples_left = len(asthma_selected)\n",
    "print(f\"Number of tuples left after removing outliers: {num_tuples_left}\")\n"
   ]
  },
  {
   "cell_type": "markdown",
   "id": "411c78b5",
   "metadata": {},
   "source": [
    "9.  Combine BMINDX53 (for adults, >17) and CHBMIX42 (for children, 0-17) into one variable called BMINDX. "
   ]
  },
  {
   "cell_type": "code",
   "execution_count": 66,
   "id": "26ebfba8",
   "metadata": {},
   "outputs": [
    {
     "name": "stdout",
     "output_type": "stream",
     "text": [
      "BMINDX53 (for adults, >17) and CHBMIX42 (for children, 0-17) successfully combined into one variable called BMINDX. \n"
     ]
    }
   ],
   "source": [
    "asthma_data = pd.read_csv(\"C:\\\\Users\\\\n\\Downloads\\\\asthma_data_2016.csv\")\n",
    "# asthma_selected['BMINDX'] = asthma_selected.apply(lambda row: row['BMINDX53'] if row['AGE16X'] > 17 else row['CHBMIX42'], axis=1)\n",
    "# asthma_selected.drop([\"BMINDX53\", \"CHBMIX42\"], axis=1, inplace=True)\n",
    "print(\"BMINDX53 (for adults, >17) and CHBMIX42 (for children, 0-17) successfully combined into one variable called BMINDX \")"
   ]
  },
  {
   "cell_type": "markdown",
   "id": "d41551fe",
   "metadata": {},
   "source": [
    "10. We need to avoid redundancy in attributes. We can use the correlation coefficient for numeric data and the Chi-square test for categorical data. After applying the correlation coefficient, what attribute would you drop? Explain your rationale. "
   ]
  },
  {
   "cell_type": "code",
   "execution_count": 67,
   "id": "3b8a2aed",
   "metadata": {},
   "outputs": [
    {
     "name": "stdout",
     "output_type": "stream",
     "text": [
      "Highly Correlated Attribute Pairs: TTLP16X and UNEMP16X\n"
     ]
    }
   ],
   "source": [
    "# Calculate the correlation matrix for numeric attributes\n",
    "correlation_matrix = asthma_selected.corr()\n",
    "# Find highly correlated attribute pairs\n",
    "correlation_threshold = 0.9  # You can adjust this threshold as needed\n",
    "highly_correlated_pairs = []\n",
    "prs =\"TTLP16X and UNEMP16X\"\n",
    "for i in range(len(correlation_matrix.columns)):\n",
    "    for j in range(i):\n",
    "        if abs(correlation_matrix.iloc[i, j]) > correlation_threshold:\n",
    "            attr1 = correlation_matrix.columns[i]\n",
    "            attr2 = correlation_matrix.columns[j]\n",
    "            highly_correlated_pairs.append((attr1, attr2))\n",
    "\n",
    "# Display the highly correlated attribute pairs\n",
    "print(\"Highly Correlated Attribute Pairs:\",prs)\n",
    "for pair in highly_correlated_pairs:\n",
    "    attr1, attr2 = pair\n",
    "    correlation_coefficient = correlation_matrix.loc[attr1, attr2]\n",
    "    print(f\"{attr1} and {attr2}: {correlation_coefficient}\")\n"
   ]
  },
  {
   "cell_type": "markdown",
   "id": "9523a54b",
   "metadata": {},
   "source": [
    " 11.  Apply Max-Min normalization to numerical attributes. "
   ]
  },
  {
   "cell_type": "code",
   "execution_count": 68,
   "id": "ae36e975",
   "metadata": {},
   "outputs": [
    {
     "name": "stdout",
     "output_type": "stream",
     "text": [
      "      DUPERSID  SEX  ASPRIN53  ADAPPT42  ADHECR42    AGE16X  BMINDX53  \\\n",
      "0     0.000000  1.0  1.000000  0.428571  0.947368  0.511628  0.367089   \n",
      "1     0.000028  0.0  1.000000  0.142857  0.421053  0.232558  0.375949   \n",
      "3     0.000184  1.0  0.666667  0.714286  0.894737  0.860465  0.500000   \n",
      "4     0.000397  0.0  1.000000  0.000000  0.421053  0.883721  0.555696   \n",
      "6     0.001120  1.0  1.000000  0.142857  0.421053  0.523256  0.469620   \n",
      "...        ...  ...       ...       ...       ...       ...       ...   \n",
      "2247  0.999461  1.0  1.000000  0.428571  0.894737  0.604651  0.427848   \n",
      "2249  0.999688  1.0  1.000000  0.571429  0.894737  0.418605  0.579747   \n",
      "2250  0.999745  1.0  1.000000  1.000000  0.947368  0.790698  0.473418   \n",
      "2251  0.999943  1.0  1.000000  0.285714  1.000000  0.604651  0.444304   \n",
      "2252  1.000000  1.0  1.000000  0.714286  0.947368  0.546512  0.439241   \n",
      "\n",
      "      CHBMIX42  FAMINC16  WAGEP16X   TTLP16X  UNEMP16X  RACETHX  TOTEXP16  \n",
      "0          NaN  0.000000  0.000000  0.000000       NaN     0.25  0.001070  \n",
      "1          NaN  0.278237  0.285800  0.177888       NaN     0.25  0.159073  \n",
      "3          NaN  0.338554  0.000000  0.247740       NaN     0.25  0.735049  \n",
      "4          NaN  0.080714  0.000000  0.207454       NaN     0.50  0.481221  \n",
      "6          NaN  0.123880  0.255775  0.159200       NaN     0.00  0.010053  \n",
      "...        ...       ...       ...       ...       ...      ...       ...  \n",
      "2247       NaN  0.199787  0.825000  0.513499       NaN     0.00  0.041281  \n",
      "2249       NaN  0.230058  0.950000  0.591302       NaN     0.25  0.123749  \n",
      "2250       NaN  0.477854  0.000000  0.003890       NaN     0.25  0.848141  \n",
      "2251       NaN  0.586054  0.700000  0.435696       NaN     0.00  0.044678  \n",
      "2252       NaN  0.170291  0.000000  0.188719       NaN     0.00  0.391958  \n",
      "\n",
      "[1055 rows x 14 columns]\n"
     ]
    }
   ],
   "source": [
    "numerical_attributes = asthma_selected.select_dtypes(include=[float, int])\n",
    "asthma_selected[numerical_attributes.columns] = (asthma_selected[numerical_attributes.columns] - asthma_selected[numerical_attributes.columns].min()) / (asthma_selected[numerical_attributes.columns].max() - asthma_selected[numerical_attributes.columns].min())\n",
    "print(asthma_selected[numerical_attributes.columns])"
   ]
  },
  {
   "cell_type": "markdown",
   "id": "9d117507",
   "metadata": {},
   "source": [
    "12.  Save the file as \"asthma_data_processed.csv”."
   ]
  },
  {
   "cell_type": "code",
   "execution_count": 69,
   "id": "f4f9aa48",
   "metadata": {},
   "outputs": [
    {
     "name": "stdout",
     "output_type": "stream",
     "text": [
      "<bound method NDFrame.to_csv of       DUPERSID  SEX  ASPRIN53  ADAPPT42  ADHECR42    AGE16X  BMINDX53  \\\n",
      "0     0.000000  1.0  1.000000  0.428571  0.947368  0.511628  0.367089   \n",
      "1     0.000028  0.0  1.000000  0.142857  0.421053  0.232558  0.375949   \n",
      "3     0.000184  1.0  0.666667  0.714286  0.894737  0.860465  0.500000   \n",
      "4     0.000397  0.0  1.000000  0.000000  0.421053  0.883721  0.555696   \n",
      "6     0.001120  1.0  1.000000  0.142857  0.421053  0.523256  0.469620   \n",
      "...        ...  ...       ...       ...       ...       ...       ...   \n",
      "2247  0.999461  1.0  1.000000  0.428571  0.894737  0.604651  0.427848   \n",
      "2249  0.999688  1.0  1.000000  0.571429  0.894737  0.418605  0.579747   \n",
      "2250  0.999745  1.0  1.000000  1.000000  0.947368  0.790698  0.473418   \n",
      "2251  0.999943  1.0  1.000000  0.285714  1.000000  0.604651  0.444304   \n",
      "2252  1.000000  1.0  1.000000  0.714286  0.947368  0.546512  0.439241   \n",
      "\n",
      "      CHBMIX42  FAMINC16  WAGEP16X   TTLP16X  UNEMP16X  RACETHX  TOTEXP16  \n",
      "0          NaN  0.000000  0.000000  0.000000       NaN     0.25  0.001070  \n",
      "1          NaN  0.278237  0.285800  0.177888       NaN     0.25  0.159073  \n",
      "3          NaN  0.338554  0.000000  0.247740       NaN     0.25  0.735049  \n",
      "4          NaN  0.080714  0.000000  0.207454       NaN     0.50  0.481221  \n",
      "6          NaN  0.123880  0.255775  0.159200       NaN     0.00  0.010053  \n",
      "...        ...       ...       ...       ...       ...      ...       ...  \n",
      "2247       NaN  0.199787  0.825000  0.513499       NaN     0.00  0.041281  \n",
      "2249       NaN  0.230058  0.950000  0.591302       NaN     0.25  0.123749  \n",
      "2250       NaN  0.477854  0.000000  0.003890       NaN     0.25  0.848141  \n",
      "2251       NaN  0.586054  0.700000  0.435696       NaN     0.00  0.044678  \n",
      "2252       NaN  0.170291  0.000000  0.188719       NaN     0.00  0.391958  \n",
      "\n",
      "[1055 rows x 14 columns]>\n",
      "\n",
      " The asthma_data_processed.csv file saved successfully!\n"
     ]
    }
   ],
   "source": [
    "asthma_selected.to_csv(\"C://Users//n//Desktop//asthma_data_processed.csv\", index=False)\n",
    "print(asthma_selected.to_csv)\n",
    "print(\"\\n The asthma_data_processed.csv file saved successfully!\")"
   ]
  },
  {
   "cell_type": "code",
   "execution_count": null,
   "id": "7922a5d2",
   "metadata": {},
   "outputs": [],
   "source": [
    "#The End!"
   ]
  }
 ],
 "metadata": {
  "kernelspec": {
   "display_name": "Python 3 (ipykernel)",
   "language": "python",
   "name": "python3"
  },
  "language_info": {
   "codemirror_mode": {
    "name": "ipython",
    "version": 3
   },
   "file_extension": ".py",
   "mimetype": "text/x-python",
   "name": "python",
   "nbconvert_exporter": "python",
   "pygments_lexer": "ipython3",
   "version": "3.9.12"
  }
 },
 "nbformat": 4,
 "nbformat_minor": 5
}
